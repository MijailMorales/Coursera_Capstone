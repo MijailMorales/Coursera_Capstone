{
    "cells": [
        {
            "cell_type": "markdown",
            "metadata": {
                "collapsed": true
            },
            "source": "# Capstone Project - The Battle of Neighborhoods\nCreated with IBM Watson Studio\n\nSuitable find the best Locations in Paris for a Pub\nThis notebook contains multiple parts:\n\nA description of the problem and a discussion of the background - Week 1\n\nA description of the data and how it will be used to solve the problem - Week 1\n\nMethodology and Exploratory Data Analysis - Week 2\n\nInferences and Discussion - Week 2\n\nThe seperate report goes into more decription of the methodology. This notebook gives only brief outlines of the methodology of each step, but includes all the code, dataframes and visualisations.\n\n## 1 Introduction and Discussion of the Business Objective and Problem\n\n**Locations for Pub in High Night activities Areas in Paris France**\nThe Task At Hand\n\nA group of investor want to open in a Pub in Paris. Guessing where the best locations were to open its critical, as part of their strategy for Pari's pub, so they've decided to be more informed and selective, and take the time to do some research.\n\nI've been given the exciting task of assisting them to make data-driven decisions on the new locations that are most suitable for their new Pub in Paris. This will be a major part of their decision-making process, the other being on the ground qualitative analysis of districts once this data and report are reviewed and studied.\n\nThey have already a well known pub brand. As such, they seek for the turist market. Foursquare data will be very helpful in making data-driven decisions about the best of those areas.\n\n**Criteria**\n\nQualitative data from another Pubs, Nightclub, Bars etc, that they know, suggests that the best locations to open new pub may not only be where other night activities are located. This data strongly suggests that the best places are in fact areas that are near Nightclubs,Cocktail Bars, Beer Bars and Hotels. \n\nThe analysis and recommendations for new store locations will focus on general districts with these establishments, not on specific addresses. Narrowing down the best district options derived from analysis allows for either further research to be conducted, advising agents of the chosen district, or on the ground searching for specific sites by the company's personnel.\n\n**Why Data?**\n\nWithout leveraging data to make decisions about new locations, the company could spend countless hours walking around districts, consulting many real estate agents with their own district biases, and end up opening in yet another location that is not ideal.\n\nData will provide better answers and better solutions to their task at hand.\n\n**Outcomes**\n\nThe goal is to identify the best districts - Arrondissements - to open new Pub as part of the company's plan. The results will be translated to management in a simple form that will convey the data-driven analysis for the best locations to open pubs.\n\n## 2 The Data Science Workflow\n**Data Requirements**\n\nThe main districts in Paris are divided into 20 Arrondissements Municipaux (administrative districts), shortened to arrondissements.\n\nThe data regarding the districts in Paris needs to be researched and a suitable useable source identified. If it is found but is not in a useable form, data wrangling and cleaning will have to be performed.\n\nThe cleansed data will then be used alongside Foursquare data, which is readily available. Foursquare location data will be leveraged to explore or compare districts around Paris, identifying the high traffic areas where people go for night entertainment and hotels. \n\n**The Data Science Workflow for Part 1 & 2 includes the following:**\n\nOutline the initial data that is required:\nDistrict data for Paris including names, location data if available, and any other details required.\nObtain the Data:\nResearch and find suitable sources for the district data for Paris.\nAccess and explore the data to determine if it can be manipulated for our purposes.\nInitial Data Wrangling and Cleaning:\nClean the data and convert to a useable form as a dataframe.\nThe Data Science Workflow for parts 3 & 4 includes:\n\n**Data Analysis and Location Data:**\n\nFoursquare location data will be leveraged to explore or compare districts around Paris.\n\nData manipulation and analysis to derive subsets of the initial data.\n\nIdentifying the high concentration of night entertainment  areas using data visualisation and tatistical nalysis.\n\n**Visualization:**\n\nAnalysis and plotting visualizations.\n\nData visualization using various mapping libraries.\n\n**Discussion and Conclusions:**\n\nRecomendations and results based on the data analysis.\n\nDiscussion of any limitations and how the results can be used, and any conclusions that can be drawn."
        },
        {
            "cell_type": "code",
            "execution_count": null,
            "metadata": {},
            "outputs": [],
            "source": ""
        }
    ],
    "metadata": {
        "kernelspec": {
            "display_name": "Python 3.6",
            "language": "python",
            "name": "python3"
        },
        "language_info": {
            "codemirror_mode": {
                "name": "ipython",
                "version": 3
            },
            "file_extension": ".py",
            "mimetype": "text/x-python",
            "name": "python",
            "nbconvert_exporter": "python",
            "pygments_lexer": "ipython3",
            "version": "3.6.9"
        }
    },
    "nbformat": 4,
    "nbformat_minor": 1
}